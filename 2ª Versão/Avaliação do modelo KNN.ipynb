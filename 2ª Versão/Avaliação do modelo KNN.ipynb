{
  "cells": [
    {
      "cell_type": "markdown",
      "metadata": {
        "id": "3S-NCKRKdFsS"
      },
      "source": [
        "## 1) Exploração do conjunto de dados"
      ]
    },
    {
      "cell_type": "markdown",
      "metadata": {
        "id": "_mbMqpRtdK6d"
      },
      "source": [
        "O conjunto de dados \"Aula 18 - dataset.csv\" possui algumas características peculiares a serem consideradas:\n",
        "\n",
        ". Possui 5 colunas de features, as quais possuem valores númericos, e 1 coluna de label, a qual possui como conteúdo 0 ou 1.\n",
        "\n",
        ". Há alguns espaços em branco na segunda coluna, os quais serão preenchidos com um número 0, pelos outros dados serem númericos.\n",
        "\n",
        ". Tirando a primeira linha que nomeia as colunas, há 891 linhas de dados no total, com repetição de linhas.\n",
        "\n",
        ". A quinta coluna é a que tem os valores com maior desvio-padrão, sendo uma das que mais vão interferir no cálculo da distância euclidiana. Porém, optarei por mantê-la do jeito que está."
      ]
    },
    {
      "cell_type": "markdown",
      "metadata": {
        "id": "c8E-Iy0ONlzE"
      },
      "source": [
        "## 2) Pré-processamento\n",
        "\n",
        "\n",
        "\n",
        "\n"
      ]
    },
    {
      "cell_type": "markdown",
      "metadata": {
        "id": "ppr-1Bf98TNG"
      },
      "source": [
        ". Input do arquivo CSV e dos k que serão calculados;"
      ]
    },
    {
      "cell_type": "code",
      "execution_count": 3,
      "metadata": {
        "colab": {
          "base_uri": "https://localhost:8080/"
        },
        "id": "E-aRK6Zw8Q2-",
        "outputId": "a7e7ba97-9a49-49ef-b2b4-c3ae922fd5f2"
      },
      "outputs": [],
      "source": [
        "df = input(\"Digite o arquivo CSV (com o .csv): \")\n",
        "passo = int(input(\"De quanto em quanto o K alternará: \"))\n",
        "k_inicial = int(input(\"Valor inicial de K: \"))\n",
        "k_final = int(input(\"Valor final de K: \"))"
      ]
    },
    {
      "cell_type": "markdown",
      "metadata": {
        "id": "XhWQxgmY8gbJ"
      },
      "source": [
        ". Leitura do arquivo utilizando a função **readlines** e exclusão da linha de cabeçalho;"
      ]
    },
    {
      "cell_type": "code",
      "execution_count": 5,
      "metadata": {
        "colab": {
          "base_uri": "https://localhost:8080/",
          "height": 36
        },
        "id": "Qb4ZKXnX8f_R",
        "outputId": "cc795d80-044e-4481-a039-4f39d9b9ab4e"
      },
      "outputs": [
        {
          "ename": "FileNotFoundError",
          "evalue": "[Errno 2] No such file or directory: 'Aula 18 - dataset.csv'",
          "output_type": "error",
          "traceback": [
            "\u001b[1;31m---------------------------------------------------------------------------\u001b[0m",
            "\u001b[1;31mFileNotFoundError\u001b[0m                         Traceback (most recent call last)",
            "Cell \u001b[1;32mIn[5], line 1\u001b[0m\n\u001b[1;32m----> 1\u001b[0m \u001b[38;5;28;01mwith\u001b[39;00m \u001b[38;5;28;43mopen\u001b[39;49m\u001b[43m(\u001b[49m\u001b[43mdf\u001b[49m\u001b[43m,\u001b[49m\u001b[43m \u001b[49m\u001b[38;5;124;43m\"\u001b[39;49m\u001b[38;5;124;43mr\u001b[39;49m\u001b[38;5;124;43m\"\u001b[39;49m\u001b[43m)\u001b[49m \u001b[38;5;28;01mas\u001b[39;00m arq:\n\u001b[0;32m      2\u001b[0m     dataset \u001b[38;5;241m=\u001b[39m arq\u001b[38;5;241m.\u001b[39mreadlines()\n\u001b[0;32m      4\u001b[0m dataset\u001b[38;5;241m.\u001b[39mpop(\u001b[38;5;241m0\u001b[39m)\n",
            "File \u001b[1;32m~\\AppData\\Roaming\\Python\\Python39\\site-packages\\IPython\\core\\interactiveshell.py:310\u001b[0m, in \u001b[0;36m_modified_open\u001b[1;34m(file, *args, **kwargs)\u001b[0m\n\u001b[0;32m    303\u001b[0m \u001b[38;5;28;01mif\u001b[39;00m file \u001b[38;5;129;01min\u001b[39;00m {\u001b[38;5;241m0\u001b[39m, \u001b[38;5;241m1\u001b[39m, \u001b[38;5;241m2\u001b[39m}:\n\u001b[0;32m    304\u001b[0m     \u001b[38;5;28;01mraise\u001b[39;00m \u001b[38;5;167;01mValueError\u001b[39;00m(\n\u001b[0;32m    305\u001b[0m         \u001b[38;5;124mf\u001b[39m\u001b[38;5;124m\"\u001b[39m\u001b[38;5;124mIPython won\u001b[39m\u001b[38;5;124m'\u001b[39m\u001b[38;5;124mt let you open fd=\u001b[39m\u001b[38;5;132;01m{\u001b[39;00mfile\u001b[38;5;132;01m}\u001b[39;00m\u001b[38;5;124m by default \u001b[39m\u001b[38;5;124m\"\u001b[39m\n\u001b[0;32m    306\u001b[0m         \u001b[38;5;124m\"\u001b[39m\u001b[38;5;124mas it is likely to crash IPython. If you know what you are doing, \u001b[39m\u001b[38;5;124m\"\u001b[39m\n\u001b[0;32m    307\u001b[0m         \u001b[38;5;124m\"\u001b[39m\u001b[38;5;124myou can use builtins\u001b[39m\u001b[38;5;124m'\u001b[39m\u001b[38;5;124m open.\u001b[39m\u001b[38;5;124m\"\u001b[39m\n\u001b[0;32m    308\u001b[0m     )\n\u001b[1;32m--> 310\u001b[0m \u001b[38;5;28;01mreturn\u001b[39;00m io_open(file, \u001b[38;5;241m*\u001b[39margs, \u001b[38;5;241m*\u001b[39m\u001b[38;5;241m*\u001b[39mkwargs)\n",
            "\u001b[1;31mFileNotFoundError\u001b[0m: [Errno 2] No such file or directory: 'Aula 18 - dataset.csv'"
          ]
        }
      ],
      "source": [
        "with open(df, \"r\") as arq:\n",
        "    dataset = arq.readlines()\n",
        "\n",
        "dataset.pop(0)"
      ]
    },
    {
      "cell_type": "markdown",
      "metadata": {
        "id": "GJkKTP9d8rnt"
      },
      "source": [
        ". Mudança das linhas do arquivo de string para listas a partir do \";\" e adição de zeros nos valores vazios;"
      ]
    },
    {
      "cell_type": "code",
      "execution_count": null,
      "metadata": {
        "id": "gC873P1j8jJ5"
      },
      "outputs": [],
      "source": [
        "for i, linha in enumerate(dataset):\n",
        "      linha = linha.strip().split(\";\")\n",
        "      dataset[i] = linha\n",
        "\n",
        "      for j in range(len(linha)):\n",
        "          if linha[j] == \"\":\n",
        "                linha[j] = \"0\"\n",
        "\n",
        "      dataset[i] = linha"
      ]
    },
    {
      "cell_type": "markdown",
      "metadata": {
        "id": "uEzw35ko-SWS"
      },
      "source": [
        ". Exclusão de linhas duplicadas que tem labels dferentes ou não"
      ]
    },
    {
      "cell_type": "code",
      "execution_count": null,
      "metadata": {
        "id": "_7_cwVYN-hXi"
      },
      "outputs": [],
      "source": [
        "import copy\n",
        "\n",
        "\n",
        "exclui_duplicatas = copy.deepcopy(dataset)\n",
        "for linha in exclui_duplicatas:\n",
        "    cont = 0\n",
        "    linha_sem_label = linha[:-1]\n",
        "\n",
        "    for line in dataset:\n",
        "        line_sem_label = line[:-1]\n",
        "\n",
        "        if linha_sem_label == line_sem_label:\n",
        "            cont += 1\n",
        "\n",
        "    if cont > 1:\n",
        "        dataset_temp = []\n",
        "        cont_removido = 0\n",
        "\n",
        "        for line in dataset:\n",
        "            line_sem_label = line[:-1]\n",
        "\n",
        "            if linha_sem_label == line_sem_label:\n",
        "                if cont_removido == 0:\n",
        "                    dataset_temp.append(line)\n",
        "                    cont_removido += 1\n",
        "                else:\n",
        "                    cont -= 1\n",
        "            else:\n",
        "                dataset_temp.append(line)\n",
        "\n",
        "        dataset = dataset_temp"
      ]
    },
    {
      "cell_type": "markdown",
      "metadata": {
        "id": "Gqys7fMH9KxN"
      },
      "source": [
        ". Embaralhamento das linhas do dataset e separação delas em 9 grupos de amostras os quais serão guardados na variável **amostras**.\n"
      ]
    },
    {
      "cell_type": "code",
      "execution_count": null,
      "metadata": {
        "id": "kQ5Z1zVB-Reb"
      },
      "outputs": [],
      "source": [
        "import random\n",
        "\n",
        "\n",
        "labels_teste, amostras = [], []\n",
        "qtd_grupo, inicio, cont = round((len(dataset) / 9)), 0, 9\n",
        "fim = qtd_grupo\n",
        "\n",
        "\n",
        "random.shuffle(dataset)\n",
        "while cont > 0:\n",
        "      amostras.append([dataset[j] for j in range(inicio, fim)])\n",
        "      inicio += qtd_grupo\n",
        "      fim += qtd_grupo\n",
        "      cont -= 1"
      ]
    },
    {
      "cell_type": "markdown",
      "metadata": {
        "id": "iXK_guGT-xuM"
      },
      "source": [
        ". Criação de uma matriz com todos os labels das amostras"
      ]
    },
    {
      "cell_type": "code",
      "execution_count": null,
      "metadata": {
        "id": "AvNjgue3-FX-"
      },
      "outputs": [],
      "source": [
        "for grupo in amostras:\n",
        "      labels_teste.append([linha[-1] for linha in grupo])"
      ]
    },
    {
      "cell_type": "markdown",
      "metadata": {
        "id": "Hr2_mUxrScbV"
      },
      "source": [
        "## 3) Experimento\n",
        "\n"
      ]
    },
    {
      "cell_type": "markdown",
      "metadata": {
        "id": "jjGNtRz7LmkR"
      },
      "source": [
        ". Técnica de amostragem Hold-out, sem reposição\n",
        "\n",
        ". Técnica de reamostragem Validação cruzada com k partições (k-fold cross validation),"
      ]
    },
    {
      "cell_type": "code",
      "execution_count": null,
      "metadata": {
        "id": "7Qt3iuHdUobA"
      },
      "outputs": [],
      "source": [
        "from mateus_goncalves_2000 import knn\n",
        "\n",
        "acuracias = {}\n",
        "media = {}\n",
        "for k in range(k_inicial, k_final+1, passo):\n",
        "      order, acuracia = 0, []\n",
        "\n",
        "\n",
        "      while order != len(amostras):\n",
        "            amostra_treino = []\n",
        "            for i, grupo in enumerate(amostras):\n",
        "                if i == order:\n",
        "                    sem_label = copy.deepcopy(grupo)\n",
        "                    for linha in sem_label:\n",
        "                        linha.pop(-1)\n",
        "                    amostra_teste = sem_label\n",
        "\n",
        "\n",
        "                else:\n",
        "                    for linha in grupo:\n",
        "                        amostra_treino.append(linha)\n",
        "\n",
        "\n",
        "            labels_knn = knn(k, amostra_treino, amostra_teste)\n",
        "\n",
        "\n",
        "            acertos = 0\n",
        "            for i in range(len(labels_teste[order])):\n",
        "                  if labels_teste[order][i] == labels_knn[i]:\n",
        "                      acertos += 1\n",
        "\n",
        "\n",
        "            porcentagem_acertos = (acertos / len(labels_teste[order])) * 100\n",
        "            acuracia.append(round(porcentagem_acertos, 2))\n",
        "\n",
        "\n",
        "            order += 1\n",
        "\n",
        "\n",
        "      media[f\"k = {k}\"] = round(sum(acuracia)/len(acuracia))\n",
        "      acuracias[f\"k = {k}\"] = acuracia"
      ]
    },
    {
      "cell_type": "markdown",
      "metadata": {
        "id": "Phu8_UGXhn2X"
      },
      "source": [
        "## 4) Resultados"
      ]
    },
    {
      "cell_type": "code",
      "execution_count": null,
      "metadata": {
        "collapsed": true,
        "id": "AjJC1GjKhnB5"
      },
      "outputs": [],
      "source": [
        "import pandas as pd\n",
        "import matplotlib.pyplot as plt\n",
        "\n",
        "\n",
        "df_acuracias = pd.DataFrame(acuracias)\n",
        "df_acuracias.index = [f\"{col + 1}ª iteração\" for col in df_acuracias.index]\n",
        "\n",
        "df_medias = pd.DataFrame([media])\n",
        "df_medias = df_medias.T\n",
        "df_medias = df_medias.rename(columns={0: \"Media em %\"})"
      ]
    },
    {
      "cell_type": "markdown",
      "metadata": {
        "id": "l7ZN-59bjOWx"
      },
      "source": [
        "### Tabela e gráfico das acuracias de cada k"
      ]
    },
    {
      "cell_type": "markdown",
      "metadata": {
        "id": "qZ-AmTHomOr9"
      },
      "source": [
        "Tabela:"
      ]
    },
    {
      "cell_type": "code",
      "execution_count": null,
      "metadata": {
        "colab": {
          "base_uri": "https://localhost:8080/",
          "height": 331
        },
        "id": "tL7vd8ObNNme",
        "outputId": "664c8a86-07cb-41a1-ed46-391e75d4f56d"
      },
      "outputs": [
        {
          "data": {
            "application/vnd.google.colaboratory.intrinsic+json": {
              "summary": "{\n  \"name\": \"df_acuracias\",\n  \"rows\": 9,\n  \"fields\": [\n    {\n      \"column\": \"k = 3\",\n      \"properties\": {\n        \"dtype\": \"number\",\n        \"std\": 3.9434611841770573,\n        \"min\": 58.02,\n        \"max\": 70.37,\n        \"num_unique_values\": 7,\n        \"samples\": [\n          58.02,\n          67.9,\n          64.2\n        ],\n        \"semantic_type\": \"\",\n        \"description\": \"\"\n      }\n    },\n    {\n      \"column\": \"k = 4\",\n      \"properties\": {\n        \"dtype\": \"number\",\n        \"std\": 3.114659335750507,\n        \"min\": 59.26,\n        \"max\": 67.9,\n        \"num_unique_values\": 7,\n        \"samples\": [\n          60.49,\n          62.96,\n          65.43\n        ],\n        \"semantic_type\": \"\",\n        \"description\": \"\"\n      }\n    },\n    {\n      \"column\": \"k = 5\",\n      \"properties\": {\n        \"dtype\": \"number\",\n        \"std\": 4.193348900342065,\n        \"min\": 60.49,\n        \"max\": 72.84,\n        \"num_unique_values\": 7,\n        \"samples\": [\n          62.96,\n          67.9,\n          65.43\n        ],\n        \"semantic_type\": \"\",\n        \"description\": \"\"\n      }\n    },\n    {\n      \"column\": \"k = 6\",\n      \"properties\": {\n        \"dtype\": \"number\",\n        \"std\": 5.1306286164562716,\n        \"min\": 59.26,\n        \"max\": 74.07,\n        \"num_unique_values\": 7,\n        \"samples\": [\n          64.2,\n          70.37,\n          62.96\n        ],\n        \"semantic_type\": \"\",\n        \"description\": \"\"\n      }\n    },\n    {\n      \"column\": \"k = 7\",\n      \"properties\": {\n        \"dtype\": \"number\",\n        \"std\": 4.114792758383394,\n        \"min\": 62.96,\n        \"max\": 74.07,\n        \"num_unique_values\": 7,\n        \"samples\": [\n          62.96,\n          74.07,\n          67.9\n        ],\n        \"semantic_type\": \"\",\n        \"description\": \"\"\n      }\n    },\n    {\n      \"column\": \"k = 8\",\n      \"properties\": {\n        \"dtype\": \"number\",\n        \"std\": 3.9581575399560744,\n        \"min\": 61.73,\n        \"max\": 72.84,\n        \"num_unique_values\": 7,\n        \"samples\": [\n          65.43,\n          72.84,\n          62.96\n        ],\n        \"semantic_type\": \"\",\n        \"description\": \"\"\n      }\n    }\n  ]\n}",
              "type": "dataframe",
              "variable_name": "df_acuracias"
            },
            "text/html": [
              "\n",
              "  <div id=\"df-a104b151-0c2d-4e65-92ef-a326bd50c382\" class=\"colab-df-container\">\n",
              "    <div>\n",
              "<style scoped>\n",
              "    .dataframe tbody tr th:only-of-type {\n",
              "        vertical-align: middle;\n",
              "    }\n",
              "\n",
              "    .dataframe tbody tr th {\n",
              "        vertical-align: top;\n",
              "    }\n",
              "\n",
              "    .dataframe thead th {\n",
              "        text-align: right;\n",
              "    }\n",
              "</style>\n",
              "<table border=\"1\" class=\"dataframe\">\n",
              "  <thead>\n",
              "    <tr style=\"text-align: right;\">\n",
              "      <th></th>\n",
              "      <th>k = 3</th>\n",
              "      <th>k = 4</th>\n",
              "      <th>k = 5</th>\n",
              "      <th>k = 6</th>\n",
              "      <th>k = 7</th>\n",
              "      <th>k = 8</th>\n",
              "    </tr>\n",
              "  </thead>\n",
              "  <tbody>\n",
              "    <tr>\n",
              "      <th>1ª iteração</th>\n",
              "      <td>58.02</td>\n",
              "      <td>60.49</td>\n",
              "      <td>62.96</td>\n",
              "      <td>64.20</td>\n",
              "      <td>62.96</td>\n",
              "      <td>65.43</td>\n",
              "    </tr>\n",
              "    <tr>\n",
              "      <th>2ª iteração</th>\n",
              "      <td>67.90</td>\n",
              "      <td>62.96</td>\n",
              "      <td>67.90</td>\n",
              "      <td>70.37</td>\n",
              "      <td>74.07</td>\n",
              "      <td>72.84</td>\n",
              "    </tr>\n",
              "    <tr>\n",
              "      <th>3ª iteração</th>\n",
              "      <td>61.73</td>\n",
              "      <td>61.73</td>\n",
              "      <td>60.49</td>\n",
              "      <td>59.26</td>\n",
              "      <td>64.20</td>\n",
              "      <td>61.73</td>\n",
              "    </tr>\n",
              "    <tr>\n",
              "      <th>4ª iteração</th>\n",
              "      <td>62.96</td>\n",
              "      <td>59.26</td>\n",
              "      <td>60.49</td>\n",
              "      <td>59.26</td>\n",
              "      <td>62.96</td>\n",
              "      <td>64.20</td>\n",
              "    </tr>\n",
              "    <tr>\n",
              "      <th>5ª iteração</th>\n",
              "      <td>69.14</td>\n",
              "      <td>66.67</td>\n",
              "      <td>70.37</td>\n",
              "      <td>70.37</td>\n",
              "      <td>69.14</td>\n",
              "      <td>70.37</td>\n",
              "    </tr>\n",
              "    <tr>\n",
              "      <th>6ª iteração</th>\n",
              "      <td>62.96</td>\n",
              "      <td>65.43</td>\n",
              "      <td>66.67</td>\n",
              "      <td>67.90</td>\n",
              "      <td>62.96</td>\n",
              "      <td>65.43</td>\n",
              "    </tr>\n",
              "    <tr>\n",
              "      <th>7ª iteração</th>\n",
              "      <td>62.96</td>\n",
              "      <td>60.49</td>\n",
              "      <td>65.43</td>\n",
              "      <td>65.43</td>\n",
              "      <td>65.43</td>\n",
              "      <td>61.73</td>\n",
              "    </tr>\n",
              "    <tr>\n",
              "      <th>8ª iteração</th>\n",
              "      <td>64.20</td>\n",
              "      <td>60.49</td>\n",
              "      <td>66.67</td>\n",
              "      <td>62.96</td>\n",
              "      <td>67.90</td>\n",
              "      <td>62.96</td>\n",
              "    </tr>\n",
              "    <tr>\n",
              "      <th>9ª iteração</th>\n",
              "      <td>70.37</td>\n",
              "      <td>67.90</td>\n",
              "      <td>72.84</td>\n",
              "      <td>74.07</td>\n",
              "      <td>71.60</td>\n",
              "      <td>69.14</td>\n",
              "    </tr>\n",
              "  </tbody>\n",
              "</table>\n",
              "</div>\n",
              "    <div class=\"colab-df-buttons\">\n",
              "\n",
              "  <div class=\"colab-df-container\">\n",
              "    <button class=\"colab-df-convert\" onclick=\"convertToInteractive('df-a104b151-0c2d-4e65-92ef-a326bd50c382')\"\n",
              "            title=\"Convert this dataframe to an interactive table.\"\n",
              "            style=\"display:none;\">\n",
              "\n",
              "  <svg xmlns=\"http://www.w3.org/2000/svg\" height=\"24px\" viewBox=\"0 -960 960 960\">\n",
              "    <path d=\"M120-120v-720h720v720H120Zm60-500h600v-160H180v160Zm220 220h160v-160H400v160Zm0 220h160v-160H400v160ZM180-400h160v-160H180v160Zm440 0h160v-160H620v160ZM180-180h160v-160H180v160Zm440 0h160v-160H620v160Z\"/>\n",
              "  </svg>\n",
              "    </button>\n",
              "\n",
              "  <style>\n",
              "    .colab-df-container {\n",
              "      display:flex;\n",
              "      gap: 12px;\n",
              "    }\n",
              "\n",
              "    .colab-df-convert {\n",
              "      background-color: #E8F0FE;\n",
              "      border: none;\n",
              "      border-radius: 50%;\n",
              "      cursor: pointer;\n",
              "      display: none;\n",
              "      fill: #1967D2;\n",
              "      height: 32px;\n",
              "      padding: 0 0 0 0;\n",
              "      width: 32px;\n",
              "    }\n",
              "\n",
              "    .colab-df-convert:hover {\n",
              "      background-color: #E2EBFA;\n",
              "      box-shadow: 0px 1px 2px rgba(60, 64, 67, 0.3), 0px 1px 3px 1px rgba(60, 64, 67, 0.15);\n",
              "      fill: #174EA6;\n",
              "    }\n",
              "\n",
              "    .colab-df-buttons div {\n",
              "      margin-bottom: 4px;\n",
              "    }\n",
              "\n",
              "    [theme=dark] .colab-df-convert {\n",
              "      background-color: #3B4455;\n",
              "      fill: #D2E3FC;\n",
              "    }\n",
              "\n",
              "    [theme=dark] .colab-df-convert:hover {\n",
              "      background-color: #434B5C;\n",
              "      box-shadow: 0px 1px 3px 1px rgba(0, 0, 0, 0.15);\n",
              "      filter: drop-shadow(0px 1px 2px rgba(0, 0, 0, 0.3));\n",
              "      fill: #FFFFFF;\n",
              "    }\n",
              "  </style>\n",
              "\n",
              "    <script>\n",
              "      const buttonEl =\n",
              "        document.querySelector('#df-a104b151-0c2d-4e65-92ef-a326bd50c382 button.colab-df-convert');\n",
              "      buttonEl.style.display =\n",
              "        google.colab.kernel.accessAllowed ? 'block' : 'none';\n",
              "\n",
              "      async function convertToInteractive(key) {\n",
              "        const element = document.querySelector('#df-a104b151-0c2d-4e65-92ef-a326bd50c382');\n",
              "        const dataTable =\n",
              "          await google.colab.kernel.invokeFunction('convertToInteractive',\n",
              "                                                    [key], {});\n",
              "        if (!dataTable) return;\n",
              "\n",
              "        const docLinkHtml = 'Like what you see? Visit the ' +\n",
              "          '<a target=\"_blank\" href=https://colab.research.google.com/notebooks/data_table.ipynb>data table notebook</a>'\n",
              "          + ' to learn more about interactive tables.';\n",
              "        element.innerHTML = '';\n",
              "        dataTable['output_type'] = 'display_data';\n",
              "        await google.colab.output.renderOutput(dataTable, element);\n",
              "        const docLink = document.createElement('div');\n",
              "        docLink.innerHTML = docLinkHtml;\n",
              "        element.appendChild(docLink);\n",
              "      }\n",
              "    </script>\n",
              "  </div>\n",
              "\n",
              "\n",
              "<div id=\"df-500ed6eb-6cc8-48f4-9154-a57a7fc4d10f\">\n",
              "  <button class=\"colab-df-quickchart\" onclick=\"quickchart('df-500ed6eb-6cc8-48f4-9154-a57a7fc4d10f')\"\n",
              "            title=\"Suggest charts\"\n",
              "            style=\"display:none;\">\n",
              "\n",
              "<svg xmlns=\"http://www.w3.org/2000/svg\" height=\"24px\"viewBox=\"0 0 24 24\"\n",
              "     width=\"24px\">\n",
              "    <g>\n",
              "        <path d=\"M19 3H5c-1.1 0-2 .9-2 2v14c0 1.1.9 2 2 2h14c1.1 0 2-.9 2-2V5c0-1.1-.9-2-2-2zM9 17H7v-7h2v7zm4 0h-2V7h2v10zm4 0h-2v-4h2v4z\"/>\n",
              "    </g>\n",
              "</svg>\n",
              "  </button>\n",
              "\n",
              "<style>\n",
              "  .colab-df-quickchart {\n",
              "      --bg-color: #E8F0FE;\n",
              "      --fill-color: #1967D2;\n",
              "      --hover-bg-color: #E2EBFA;\n",
              "      --hover-fill-color: #174EA6;\n",
              "      --disabled-fill-color: #AAA;\n",
              "      --disabled-bg-color: #DDD;\n",
              "  }\n",
              "\n",
              "  [theme=dark] .colab-df-quickchart {\n",
              "      --bg-color: #3B4455;\n",
              "      --fill-color: #D2E3FC;\n",
              "      --hover-bg-color: #434B5C;\n",
              "      --hover-fill-color: #FFFFFF;\n",
              "      --disabled-bg-color: #3B4455;\n",
              "      --disabled-fill-color: #666;\n",
              "  }\n",
              "\n",
              "  .colab-df-quickchart {\n",
              "    background-color: var(--bg-color);\n",
              "    border: none;\n",
              "    border-radius: 50%;\n",
              "    cursor: pointer;\n",
              "    display: none;\n",
              "    fill: var(--fill-color);\n",
              "    height: 32px;\n",
              "    padding: 0;\n",
              "    width: 32px;\n",
              "  }\n",
              "\n",
              "  .colab-df-quickchart:hover {\n",
              "    background-color: var(--hover-bg-color);\n",
              "    box-shadow: 0 1px 2px rgba(60, 64, 67, 0.3), 0 1px 3px 1px rgba(60, 64, 67, 0.15);\n",
              "    fill: var(--button-hover-fill-color);\n",
              "  }\n",
              "\n",
              "  .colab-df-quickchart-complete:disabled,\n",
              "  .colab-df-quickchart-complete:disabled:hover {\n",
              "    background-color: var(--disabled-bg-color);\n",
              "    fill: var(--disabled-fill-color);\n",
              "    box-shadow: none;\n",
              "  }\n",
              "\n",
              "  .colab-df-spinner {\n",
              "    border: 2px solid var(--fill-color);\n",
              "    border-color: transparent;\n",
              "    border-bottom-color: var(--fill-color);\n",
              "    animation:\n",
              "      spin 1s steps(1) infinite;\n",
              "  }\n",
              "\n",
              "  @keyframes spin {\n",
              "    0% {\n",
              "      border-color: transparent;\n",
              "      border-bottom-color: var(--fill-color);\n",
              "      border-left-color: var(--fill-color);\n",
              "    }\n",
              "    20% {\n",
              "      border-color: transparent;\n",
              "      border-left-color: var(--fill-color);\n",
              "      border-top-color: var(--fill-color);\n",
              "    }\n",
              "    30% {\n",
              "      border-color: transparent;\n",
              "      border-left-color: var(--fill-color);\n",
              "      border-top-color: var(--fill-color);\n",
              "      border-right-color: var(--fill-color);\n",
              "    }\n",
              "    40% {\n",
              "      border-color: transparent;\n",
              "      border-right-color: var(--fill-color);\n",
              "      border-top-color: var(--fill-color);\n",
              "    }\n",
              "    60% {\n",
              "      border-color: transparent;\n",
              "      border-right-color: var(--fill-color);\n",
              "    }\n",
              "    80% {\n",
              "      border-color: transparent;\n",
              "      border-right-color: var(--fill-color);\n",
              "      border-bottom-color: var(--fill-color);\n",
              "    }\n",
              "    90% {\n",
              "      border-color: transparent;\n",
              "      border-bottom-color: var(--fill-color);\n",
              "    }\n",
              "  }\n",
              "</style>\n",
              "\n",
              "  <script>\n",
              "    async function quickchart(key) {\n",
              "      const quickchartButtonEl =\n",
              "        document.querySelector('#' + key + ' button');\n",
              "      quickchartButtonEl.disabled = true;  // To prevent multiple clicks.\n",
              "      quickchartButtonEl.classList.add('colab-df-spinner');\n",
              "      try {\n",
              "        const charts = await google.colab.kernel.invokeFunction(\n",
              "            'suggestCharts', [key], {});\n",
              "      } catch (error) {\n",
              "        console.error('Error during call to suggestCharts:', error);\n",
              "      }\n",
              "      quickchartButtonEl.classList.remove('colab-df-spinner');\n",
              "      quickchartButtonEl.classList.add('colab-df-quickchart-complete');\n",
              "    }\n",
              "    (() => {\n",
              "      let quickchartButtonEl =\n",
              "        document.querySelector('#df-500ed6eb-6cc8-48f4-9154-a57a7fc4d10f button');\n",
              "      quickchartButtonEl.style.display =\n",
              "        google.colab.kernel.accessAllowed ? 'block' : 'none';\n",
              "    })();\n",
              "  </script>\n",
              "</div>\n",
              "\n",
              "  <div id=\"id_428019d8-e7c3-418c-a345-ace5a1d51252\">\n",
              "    <style>\n",
              "      .colab-df-generate {\n",
              "        background-color: #E8F0FE;\n",
              "        border: none;\n",
              "        border-radius: 50%;\n",
              "        cursor: pointer;\n",
              "        display: none;\n",
              "        fill: #1967D2;\n",
              "        height: 32px;\n",
              "        padding: 0 0 0 0;\n",
              "        width: 32px;\n",
              "      }\n",
              "\n",
              "      .colab-df-generate:hover {\n",
              "        background-color: #E2EBFA;\n",
              "        box-shadow: 0px 1px 2px rgba(60, 64, 67, 0.3), 0px 1px 3px 1px rgba(60, 64, 67, 0.15);\n",
              "        fill: #174EA6;\n",
              "      }\n",
              "\n",
              "      [theme=dark] .colab-df-generate {\n",
              "        background-color: #3B4455;\n",
              "        fill: #D2E3FC;\n",
              "      }\n",
              "\n",
              "      [theme=dark] .colab-df-generate:hover {\n",
              "        background-color: #434B5C;\n",
              "        box-shadow: 0px 1px 3px 1px rgba(0, 0, 0, 0.15);\n",
              "        filter: drop-shadow(0px 1px 2px rgba(0, 0, 0, 0.3));\n",
              "        fill: #FFFFFF;\n",
              "      }\n",
              "    </style>\n",
              "    <button class=\"colab-df-generate\" onclick=\"generateWithVariable('df_acuracias')\"\n",
              "            title=\"Generate code using this dataframe.\"\n",
              "            style=\"display:none;\">\n",
              "\n",
              "  <svg xmlns=\"http://www.w3.org/2000/svg\" height=\"24px\"viewBox=\"0 0 24 24\"\n",
              "       width=\"24px\">\n",
              "    <path d=\"M7,19H8.4L18.45,9,17,7.55,7,17.6ZM5,21V16.75L18.45,3.32a2,2,0,0,1,2.83,0l1.4,1.43a1.91,1.91,0,0,1,.58,1.4,1.91,1.91,0,0,1-.58,1.4L9.25,21ZM18.45,9,17,7.55Zm-12,3A5.31,5.31,0,0,0,4.9,8.1,5.31,5.31,0,0,0,1,6.5,5.31,5.31,0,0,0,4.9,4.9,5.31,5.31,0,0,0,6.5,1,5.31,5.31,0,0,0,8.1,4.9,5.31,5.31,0,0,0,12,6.5,5.46,5.46,0,0,0,6.5,12Z\"/>\n",
              "  </svg>\n",
              "    </button>\n",
              "    <script>\n",
              "      (() => {\n",
              "      const buttonEl =\n",
              "        document.querySelector('#id_428019d8-e7c3-418c-a345-ace5a1d51252 button.colab-df-generate');\n",
              "      buttonEl.style.display =\n",
              "        google.colab.kernel.accessAllowed ? 'block' : 'none';\n",
              "\n",
              "      buttonEl.onclick = () => {\n",
              "        google.colab.notebook.generateWithVariable('df_acuracias');\n",
              "      }\n",
              "      })();\n",
              "    </script>\n",
              "  </div>\n",
              "\n",
              "    </div>\n",
              "  </div>\n"
            ],
            "text/plain": [
              "             k = 3  k = 4  k = 5  k = 6  k = 7  k = 8\n",
              "1ª iteração  58.02  60.49  62.96  64.20  62.96  65.43\n",
              "2ª iteração  67.90  62.96  67.90  70.37  74.07  72.84\n",
              "3ª iteração  61.73  61.73  60.49  59.26  64.20  61.73\n",
              "4ª iteração  62.96  59.26  60.49  59.26  62.96  64.20\n",
              "5ª iteração  69.14  66.67  70.37  70.37  69.14  70.37\n",
              "6ª iteração  62.96  65.43  66.67  67.90  62.96  65.43\n",
              "7ª iteração  62.96  60.49  65.43  65.43  65.43  61.73\n",
              "8ª iteração  64.20  60.49  66.67  62.96  67.90  62.96\n",
              "9ª iteração  70.37  67.90  72.84  74.07  71.60  69.14"
            ]
          },
          "execution_count": 138,
          "metadata": {},
          "output_type": "execute_result"
        }
      ],
      "source": [
        "df_acuracias"
      ]
    },
    {
      "cell_type": "markdown",
      "metadata": {
        "id": "T86UHfrvmUis"
      },
      "source": [
        "Gráficos:"
      ]
    },
    {
      "cell_type": "code",
      "execution_count": null,
      "metadata": {
        "id": "8XYqltxEaK4I"
      },
      "outputs": [],
      "source": [
        "df_acuracias.index = [f\"{col + 1}ª\" for col in range(0, len(amostras))]"
      ]
    },
    {
      "cell_type": "code",
      "execution_count": null,
      "metadata": {
        "colab": {
          "base_uri": "https://localhost:8080/",
          "height": 487
        },
        "id": "qg8xS8Zvlt-H",
        "outputId": "40351907-59f6-4425-b2b3-a4da6dbbef65"
      },
      "outputs": [
        {
          "data": {
            "image/png": "[encoded data removed]",
            "text/plain": [
              "<Figure size 1000x500 with 1 Axes>"
            ]
          },
          "metadata": {},
          "output_type": "display_data"
        }
      ],
      "source": [
        "df_acuracias.plot(kind = 'line', xlabel = \"Iterações\", ylabel = \"Porcentagem %\", figsize = (10,5), title = \"Acuracia\")\n",
        "plt.yticks(range(0, 101, 5))\n",
        "plt.xticks(range(0, 9))\n",
        "plt.show()\n"
      ]
    },
    {
      "cell_type": "code",
      "execution_count": null,
      "metadata": {
        "colab": {
          "base_uri": "https://localhost:8080/",
          "height": 461
        },
        "id": "UF7x7Dn8Xc7j",
        "outputId": "482fbd22-6110-4f7d-8bdc-7b2ada49cc4b"
      },
      "outputs": [
        {
          "data": {
            "image/png": "[encoded data removed]",
            "text/plain": [
              "<Figure size 2000x2000 with 16 Axes>"
            ]
          },
          "metadata": {},
          "output_type": "display_data"
        }
      ],
      "source": [
        "df_acuracias.plot(kind = \"bar\", subplots = True, layout = (4, 4), xlabel = \"Iterações\", ylabel = \"Porcentagem %\", figsize = (20,20), legend = False, yticks= range(0, 101, 10))\n",
        "plt.xticks(rotation=0)\n",
        "plt.yticks()\n",
        "plt.show()"
      ]
    },
    {
      "cell_type": "code",
      "execution_count": null,
      "metadata": {
        "colab": {
          "base_uri": "https://localhost:8080/",
          "height": 488
        },
        "id": "tAAdoLgvdVP8",
        "outputId": "25a1e8f0-69ce-4b3d-b30b-76b782237393"
      },
      "outputs": [
        {
          "data": {
            "text/plain": [
              "<Axes: xlabel='Iterações', ylabel='Porcentagem %'>"
            ]
          },
          "execution_count": 142,
          "metadata": {},
          "output_type": "execute_result"
        },
        {
          "data": {
            "image/png": "[encoded data removed]",
            "text/plain": [
              "<Figure size 1000x500 with 1 Axes>"
            ]
          },
          "metadata": {},
          "output_type": "display_data"
        }
      ],
      "source": [
        "grafico = df_medias.plot(kind = 'line', xlabel = \"Iterações\", ylabel = \"Porcentagem %\", figsize = (10,5), title = \"\")\n",
        "plt.yticks(range(0, 101, 5))\n",
        "plt.xticks(range(0, len(media), 1))\n",
        "grafico"
      ]
    },
    {
      "cell_type": "markdown",
      "metadata": {
        "id": "laVsWoKbF1MQ"
      },
      "source": [
        "### Tabela da média das acurácias de cada k"
      ]
    },
    {
      "cell_type": "code",
      "execution_count": null,
      "metadata": {
        "colab": {
          "base_uri": "https://localhost:8080/",
          "height": 237
        },
        "id": "hGppabaPg9ui",
        "outputId": "16e9ec5d-a023-4b99-8d0c-0b681d42dd48"
      },
      "outputs": [
        {
          "data": {
            "application/vnd.google.colaboratory.intrinsic+json": {
              "summary": "{\n  \"name\": \"df_medias\",\n  \"rows\": 6,\n  \"fields\": [\n    {\n      \"column\": \"Media em %\",\n      \"properties\": {\n        \"dtype\": \"number\",\n        \"std\": 1,\n        \"min\": 63,\n        \"max\": 67,\n        \"num_unique_values\": 4,\n        \"samples\": [\n          63,\n          67,\n          64\n        ],\n        \"semantic_type\": \"\",\n        \"description\": \"\"\n      }\n    }\n  ]\n}",
              "type": "dataframe",
              "variable_name": "df_medias"
            },
            "text/html": [
              "\n",
              "  <div id=\"df-07134ebe-c2f1-4caf-9c7d-2b73fd21a0bd\" class=\"colab-df-container\">\n",
              "    <div>\n",
              "<style scoped>\n",
              "    .dataframe tbody tr th:only-of-type {\n",
              "        vertical-align: middle;\n",
              "    }\n",
              "\n",
              "    .dataframe tbody tr th {\n",
              "        vertical-align: top;\n",
              "    }\n",
              "\n",
              "    .dataframe thead th {\n",
              "        text-align: right;\n",
              "    }\n",
              "</style>\n",
              "<table border=\"1\" class=\"dataframe\">\n",
              "  <thead>\n",
              "    <tr style=\"text-align: right;\">\n",
              "      <th></th>\n",
              "      <th>Media em %</th>\n",
              "    </tr>\n",
              "  </thead>\n",
              "  <tbody>\n",
              "    <tr>\n",
              "      <th>k = 3</th>\n",
              "      <td>64</td>\n",
              "    </tr>\n",
              "    <tr>\n",
              "      <th>k = 4</th>\n",
              "      <td>63</td>\n",
              "    </tr>\n",
              "    <tr>\n",
              "      <th>k = 5</th>\n",
              "      <td>66</td>\n",
              "    </tr>\n",
              "    <tr>\n",
              "      <th>k = 6</th>\n",
              "      <td>66</td>\n",
              "    </tr>\n",
              "    <tr>\n",
              "      <th>k = 7</th>\n",
              "      <td>67</td>\n",
              "    </tr>\n",
              "    <tr>\n",
              "      <th>k = 8</th>\n",
              "      <td>66</td>\n",
              "    </tr>\n",
              "  </tbody>\n",
              "</table>\n",
              "</div>\n",
              "    <div class=\"colab-df-buttons\">\n",
              "\n",
              "  <div class=\"colab-df-container\">\n",
              "    <button class=\"colab-df-convert\" onclick=\"convertToInteractive('df-07134ebe-c2f1-4caf-9c7d-2b73fd21a0bd')\"\n",
              "            title=\"Convert this dataframe to an interactive table.\"\n",
              "            style=\"display:none;\">\n",
              "\n",
              "  <svg xmlns=\"http://www.w3.org/2000/svg\" height=\"24px\" viewBox=\"0 -960 960 960\">\n",
              "    <path d=\"M120-120v-720h720v720H120Zm60-500h600v-160H180v160Zm220 220h160v-160H400v160Zm0 220h160v-160H400v160ZM180-400h160v-160H180v160Zm440 0h160v-160H620v160ZM180-180h160v-160H180v160Zm440 0h160v-160H620v160Z\"/>\n",
              "  </svg>\n",
              "    </button>\n",
              "\n",
              "  <style>\n",
              "    .colab-df-container {\n",
              "      display:flex;\n",
              "      gap: 12px;\n",
              "    }\n",
              "\n",
              "    .colab-df-convert {\n",
              "      background-color: #E8F0FE;\n",
              "      border: none;\n",
              "      border-radius: 50%;\n",
              "      cursor: pointer;\n",
              "      display: none;\n",
              "      fill: #1967D2;\n",
              "      height: 32px;\n",
              "      padding: 0 0 0 0;\n",
              "      width: 32px;\n",
              "    }\n",
              "\n",
              "    .colab-df-convert:hover {\n",
              "      background-color: #E2EBFA;\n",
              "      box-shadow: 0px 1px 2px rgba(60, 64, 67, 0.3), 0px 1px 3px 1px rgba(60, 64, 67, 0.15);\n",
              "      fill: #174EA6;\n",
              "    }\n",
              "\n",
              "    .colab-df-buttons div {\n",
              "      margin-bottom: 4px;\n",
              "    }\n",
              "\n",
              "    [theme=dark] .colab-df-convert {\n",
              "      background-color: #3B4455;\n",
              "      fill: #D2E3FC;\n",
              "    }\n",
              "\n",
              "    [theme=dark] .colab-df-convert:hover {\n",
              "      background-color: #434B5C;\n",
              "      box-shadow: 0px 1px 3px 1px rgba(0, 0, 0, 0.15);\n",
              "      filter: drop-shadow(0px 1px 2px rgba(0, 0, 0, 0.3));\n",
              "      fill: #FFFFFF;\n",
              "    }\n",
              "  </style>\n",
              "\n",
              "    <script>\n",
              "      const buttonEl =\n",
              "        document.querySelector('#df-07134ebe-c2f1-4caf-9c7d-2b73fd21a0bd button.colab-df-convert');\n",
              "      buttonEl.style.display =\n",
              "        google.colab.kernel.accessAllowed ? 'block' : 'none';\n",
              "\n",
              "      async function convertToInteractive(key) {\n",
              "        const element = document.querySelector('#df-07134ebe-c2f1-4caf-9c7d-2b73fd21a0bd');\n",
              "        const dataTable =\n",
              "          await google.colab.kernel.invokeFunction('convertToInteractive',\n",
              "                                                    [key], {});\n",
              "        if (!dataTable) return;\n",
              "\n",
              "        const docLinkHtml = 'Like what you see? Visit the ' +\n",
              "          '<a target=\"_blank\" href=https://colab.research.google.com/notebooks/data_table.ipynb>data table notebook</a>'\n",
              "          + ' to learn more about interactive tables.';\n",
              "        element.innerHTML = '';\n",
              "        dataTable['output_type'] = 'display_data';\n",
              "        await google.colab.output.renderOutput(dataTable, element);\n",
              "        const docLink = document.createElement('div');\n",
              "        docLink.innerHTML = docLinkHtml;\n",
              "        element.appendChild(docLink);\n",
              "      }\n",
              "    </script>\n",
              "  </div>\n",
              "\n",
              "\n",
              "<div id=\"df-f8db5e52-0de8-4dcc-9343-a7ae2c8746bc\">\n",
              "  <button class=\"colab-df-quickchart\" onclick=\"quickchart('df-f8db5e52-0de8-4dcc-9343-a7ae2c8746bc')\"\n",
              "            title=\"Suggest charts\"\n",
              "            style=\"display:none;\">\n",
              "\n",
              "<svg xmlns=\"http://www.w3.org/2000/svg\" height=\"24px\"viewBox=\"0 0 24 24\"\n",
              "     width=\"24px\">\n",
              "    <g>\n",
              "        <path d=\"M19 3H5c-1.1 0-2 .9-2 2v14c0 1.1.9 2 2 2h14c1.1 0 2-.9 2-2V5c0-1.1-.9-2-2-2zM9 17H7v-7h2v7zm4 0h-2V7h2v10zm4 0h-2v-4h2v4z\"/>\n",
              "    </g>\n",
              "</svg>\n",
              "  </button>\n",
              "\n",
              "<style>\n",
              "  .colab-df-quickchart {\n",
              "      --bg-color: #E8F0FE;\n",
              "      --fill-color: #1967D2;\n",
              "      --hover-bg-color: #E2EBFA;\n",
              "      --hover-fill-color: #174EA6;\n",
              "      --disabled-fill-color: #AAA;\n",
              "      --disabled-bg-color: #DDD;\n",
              "  }\n",
              "\n",
              "  [theme=dark] .colab-df-quickchart {\n",
              "      --bg-color: #3B4455;\n",
              "      --fill-color: #D2E3FC;\n",
              "      --hover-bg-color: #434B5C;\n",
              "      --hover-fill-color: #FFFFFF;\n",
              "      --disabled-bg-color: #3B4455;\n",
              "      --disabled-fill-color: #666;\n",
              "  }\n",
              "\n",
              "  .colab-df-quickchart {\n",
              "    background-color: var(--bg-color);\n",
              "    border: none;\n",
              "    border-radius: 50%;\n",
              "    cursor: pointer;\n",
              "    display: none;\n",
              "    fill: var(--fill-color);\n",
              "    height: 32px;\n",
              "    padding: 0;\n",
              "    width: 32px;\n",
              "  }\n",
              "\n",
              "  .colab-df-quickchart:hover {\n",
              "    background-color: var(--hover-bg-color);\n",
              "    box-shadow: 0 1px 2px rgba(60, 64, 67, 0.3), 0 1px 3px 1px rgba(60, 64, 67, 0.15);\n",
              "    fill: var(--button-hover-fill-color);\n",
              "  }\n",
              "\n",
              "  .colab-df-quickchart-complete:disabled,\n",
              "  .colab-df-quickchart-complete:disabled:hover {\n",
              "    background-color: var(--disabled-bg-color);\n",
              "    fill: var(--disabled-fill-color);\n",
              "    box-shadow: none;\n",
              "  }\n",
              "\n",
              "  .colab-df-spinner {\n",
              "    border: 2px solid var(--fill-color);\n",
              "    border-color: transparent;\n",
              "    border-bottom-color: var(--fill-color);\n",
              "    animation:\n",
              "      spin 1s steps(1) infinite;\n",
              "  }\n",
              "\n",
              "  @keyframes spin {\n",
              "    0% {\n",
              "      border-color: transparent;\n",
              "      border-bottom-color: var(--fill-color);\n",
              "      border-left-color: var(--fill-color);\n",
              "    }\n",
              "    20% {\n",
              "      border-color: transparent;\n",
              "      border-left-color: var(--fill-color);\n",
              "      border-top-color: var(--fill-color);\n",
              "    }\n",
              "    30% {\n",
              "      border-color: transparent;\n",
              "      border-left-color: var(--fill-color);\n",
              "      border-top-color: var(--fill-color);\n",
              "      border-right-color: var(--fill-color);\n",
              "    }\n",
              "    40% {\n",
              "      border-color: transparent;\n",
              "      border-right-color: var(--fill-color);\n",
              "      border-top-color: var(--fill-color);\n",
              "    }\n",
              "    60% {\n",
              "      border-color: transparent;\n",
              "      border-right-color: var(--fill-color);\n",
              "    }\n",
              "    80% {\n",
              "      border-color: transparent;\n",
              "      border-right-color: var(--fill-color);\n",
              "      border-bottom-color: var(--fill-color);\n",
              "    }\n",
              "    90% {\n",
              "      border-color: transparent;\n",
              "      border-bottom-color: var(--fill-color);\n",
              "    }\n",
              "  }\n",
              "</style>\n",
              "\n",
              "  <script>\n",
              "    async function quickchart(key) {\n",
              "      const quickchartButtonEl =\n",
              "        document.querySelector('#' + key + ' button');\n",
              "      quickchartButtonEl.disabled = true;  // To prevent multiple clicks.\n",
              "      quickchartButtonEl.classList.add('colab-df-spinner');\n",
              "      try {\n",
              "        const charts = await google.colab.kernel.invokeFunction(\n",
              "            'suggestCharts', [key], {});\n",
              "      } catch (error) {\n",
              "        console.error('Error during call to suggestCharts:', error);\n",
              "      }\n",
              "      quickchartButtonEl.classList.remove('colab-df-spinner');\n",
              "      quickchartButtonEl.classList.add('colab-df-quickchart-complete');\n",
              "    }\n",
              "    (() => {\n",
              "      let quickchartButtonEl =\n",
              "        document.querySelector('#df-f8db5e52-0de8-4dcc-9343-a7ae2c8746bc button');\n",
              "      quickchartButtonEl.style.display =\n",
              "        google.colab.kernel.accessAllowed ? 'block' : 'none';\n",
              "    })();\n",
              "  </script>\n",
              "</div>\n",
              "\n",
              "  <div id=\"id_0a676704-2c70-445d-93a2-50219b80c7b8\">\n",
              "    <style>\n",
              "      .colab-df-generate {\n",
              "        background-color: #E8F0FE;\n",
              "        border: none;\n",
              "        border-radius: 50%;\n",
              "        cursor: pointer;\n",
              "        display: none;\n",
              "        fill: #1967D2;\n",
              "        height: 32px;\n",
              "        padding: 0 0 0 0;\n",
              "        width: 32px;\n",
              "      }\n",
              "\n",
              "      .colab-df-generate:hover {\n",
              "        background-color: #E2EBFA;\n",
              "        box-shadow: 0px 1px 2px rgba(60, 64, 67, 0.3), 0px 1px 3px 1px rgba(60, 64, 67, 0.15);\n",
              "        fill: #174EA6;\n",
              "      }\n",
              "\n",
              "      [theme=dark] .colab-df-generate {\n",
              "        background-color: #3B4455;\n",
              "        fill: #D2E3FC;\n",
              "      }\n",
              "\n",
              "      [theme=dark] .colab-df-generate:hover {\n",
              "        background-color: #434B5C;\n",
              "        box-shadow: 0px 1px 3px 1px rgba(0, 0, 0, 0.15);\n",
              "        filter: drop-shadow(0px 1px 2px rgba(0, 0, 0, 0.3));\n",
              "        fill: #FFFFFF;\n",
              "      }\n",
              "    </style>\n",
              "    <button class=\"colab-df-generate\" onclick=\"generateWithVariable('df_medias')\"\n",
              "            title=\"Generate code using this dataframe.\"\n",
              "            style=\"display:none;\">\n",
              "\n",
              "  <svg xmlns=\"http://www.w3.org/2000/svg\" height=\"24px\"viewBox=\"0 0 24 24\"\n",
              "       width=\"24px\">\n",
              "    <path d=\"M7,19H8.4L18.45,9,17,7.55,7,17.6ZM5,21V16.75L18.45,3.32a2,2,0,0,1,2.83,0l1.4,1.43a1.91,1.91,0,0,1,.58,1.4,1.91,1.91,0,0,1-.58,1.4L9.25,21ZM18.45,9,17,7.55Zm-12,3A5.31,5.31,0,0,0,4.9,8.1,5.31,5.31,0,0,0,1,6.5,5.31,5.31,0,0,0,4.9,4.9,5.31,5.31,0,0,0,6.5,1,5.31,5.31,0,0,0,8.1,4.9,5.31,5.31,0,0,0,12,6.5,5.46,5.46,0,0,0,6.5,12Z\"/>\n",
              "  </svg>\n",
              "    </button>\n",
              "    <script>\n",
              "      (() => {\n",
              "      const buttonEl =\n",
              "        document.querySelector('#id_0a676704-2c70-445d-93a2-50219b80c7b8 button.colab-df-generate');\n",
              "      buttonEl.style.display =\n",
              "        google.colab.kernel.accessAllowed ? 'block' : 'none';\n",
              "\n",
              "      buttonEl.onclick = () => {\n",
              "        google.colab.notebook.generateWithVariable('df_medias');\n",
              "      }\n",
              "      })();\n",
              "    </script>\n",
              "  </div>\n",
              "\n",
              "    </div>\n",
              "  </div>\n"
            ],
            "text/plain": [
              "       Media em %\n",
              "k = 3          64\n",
              "k = 4          63\n",
              "k = 5          66\n",
              "k = 6          66\n",
              "k = 7          67\n",
              "k = 8          66"
            ]
          },
          "execution_count": 143,
          "metadata": {},
          "output_type": "execute_result"
        }
      ],
      "source": [
        "df_medias"
      ]
    },
    {
      "cell_type": "markdown",
      "metadata": {
        "id": "8OeWDXa6oFSZ"
      },
      "source": [
        "Gráfico:"
      ]
    },
    {
      "cell_type": "code",
      "execution_count": null,
      "metadata": {
        "colab": {
          "base_uri": "https://localhost:8080/",
          "height": 409
        },
        "id": "SSWxa2AWoEpo",
        "outputId": "0f4168d3-6d44-4241-89f8-6af29ed52562"
      },
      "outputs": [
        {
          "data": {
            "text/plain": [
              "<Axes: title={'center': 'Media'}, ylabel='Porcentagem %'>"
            ]
          },
          "execution_count": 144,
          "metadata": {},
          "output_type": "execute_result"
        },
        {
          "data": {
            "image/png": "[encoded data removed]",
            "text/plain": [
              "<Figure size 800x400 with 1 Axes>"
            ]
          },
          "metadata": {},
          "output_type": "display_data"
        }
      ],
      "source": [
        "grafico = df_medias.plot(kind = 'bar', ylabel = \"Porcentagem %\", figsize = (8,4), title = \"Media\")\n",
        "plt.xticks(rotation = 0)\n",
        "plt.yticks(range(0, 101, 10))\n",
        "grafico\n"
      ]
    },
    {
      "cell_type": "markdown",
      "metadata": {
        "id": "R7m-OwsMUSfs"
      },
      "source": [
        "### 5) Conclusão"
      ]
    },
    {
      "cell_type": "markdown",
      "metadata": {
        "id": "AOZhFoOBDI0p"
      },
      "source": [
        "Melhor ou um dos melhores valores médios de k:"
      ]
    },
    {
      "cell_type": "code",
      "execution_count": null,
      "metadata": {
        "colab": {
          "base_uri": "https://localhost:8080/",
          "height": 115
        },
        "id": "wxDcxd9oVK7_",
        "outputId": "763df293-4a33-43c5-e09e-f0a4b8e2c9ad"
      },
      "outputs": [
        {
          "data": {
            "text/html": [
              "<div>\n",
              "<style scoped>\n",
              "    .dataframe tbody tr th:only-of-type {\n",
              "        vertical-align: middle;\n",
              "    }\n",
              "\n",
              "    .dataframe tbody tr th {\n",
              "        vertical-align: top;\n",
              "    }\n",
              "\n",
              "    .dataframe thead th {\n",
              "        text-align: right;\n",
              "    }\n",
              "</style>\n",
              "<table border=\"1\" class=\"dataframe\">\n",
              "  <thead>\n",
              "    <tr style=\"text-align: right;\">\n",
              "      <th></th>\n",
              "      <th>k = 7</th>\n",
              "    </tr>\n",
              "  </thead>\n",
              "  <tbody>\n",
              "    <tr>\n",
              "      <th>Media em %</th>\n",
              "      <td>67</td>\n",
              "    </tr>\n",
              "  </tbody>\n",
              "</table>\n",
              "</div><br><label><b>dtype:</b> int64</label>"
            ],
            "text/plain": [
              "Media em %    67\n",
              "Name: k = 7, dtype: int64"
            ]
          },
          "execution_count": 145,
          "metadata": {},
          "output_type": "execute_result"
        }
      ],
      "source": [
        "df = df_medias.loc[df_medias[\"Media em %\"].idxmax()]\n",
        "df\n"
      ]
    }
  ],
  "metadata": {
    "colab": {
      "provenance": []
    },
    "kernelspec": {
      "display_name": "Python 3",
      "name": "python3"
    },
    "language_info": {
      "codemirror_mode": {
        "name": "ipython",
        "version": 3
      },
      "file_extension": ".py",
      "mimetype": "text/x-python",
      "name": "python",
      "nbconvert_exporter": "python",
      "pygments_lexer": "ipython3",
      "version": "3.9.13"
    }
  },
  "nbformat": 4,
  "nbformat_minor": 0
}
